{
 "cells": [
  {
   "cell_type": "markdown",
   "metadata": {},
   "source": [
    "# Finch usage\n",
    "\n",
    "Finch is a WPS server for climate indicators, but also has a few utilities to facilitate data handling. To get started, first instantiate the client. "
   ]
  },
  {
   "cell_type": "code",
   "execution_count": 1,
   "metadata": {},
   "outputs": [],
   "source": [
    "import os\n",
    "from birdy import WPSClient\n",
    "\n",
    "pavics_url = 'https://pavics.ouranos.ca/twitcher/ows/proxy/finch/wps'\n",
    "url = os.environ.get('FINCH_WPS_URL', pavics_url)\n",
    "verify_ssl = True if 'DISABLE_VERIFY_SSL' not in os.environ else False\n",
    "wps = WPSClient(url, verify=verify_ssl)"
   ]
  },
  {
   "cell_type": "markdown",
   "metadata": {},
   "source": [
    "The list of available processes can be displayed using the help function, as well as details about individual processes. "
   ]
  },
  {
   "cell_type": "code",
   "execution_count": 2,
   "metadata": {},
   "outputs": [],
   "source": [
    "wps?"
   ]
  },
  {
   "cell_type": "code",
   "execution_count": 3,
   "metadata": {},
   "outputs": [],
   "source": [
    "wps.frost_days?"
   ]
  },
  {
   "cell_type": "markdown",
   "metadata": {},
   "source": [
    "To actually compute an indicator, we need to specify the path to the netCDF file used as input for the calculation of the indicator. To compute `frost_days`, we need a time series of daily minimum temperature. Here we'll use a small test file. Note that here we're using an OPeNDAP link, but it could also be an url to a netCDF file, or the path to a local file on disk. We then simply call the indicator. The response is an object that can poll the server to inquire about the status of the process. This object can use two modes: \n",
    " - synchronous: it will wait for the server's response before returning; or \n",
    " - asynchronous: it will return immediately, but without the actual output from the process.\n",
    " \n",
    "Here, since we're applying the process on a small test file, we're using the default synchronous mode. For long computations, use the asynchronous mode to avoid time-out errors. The asynchronous mode is activated by setting the `progress` attribute of the WPS client to True. "
   ]
  },
  {
   "cell_type": "code",
   "execution_count": 4,
   "metadata": {},
   "outputs": [],
   "source": [
    "tasmin = \"https://pavics.ouranos.ca/twitcher/ows/proxy/thredds/dodsC/birdhouse/testdata/flyingpigeon/cmip3/tasmin.sresa2.miub_echo_g.run1.atm.da.nc\"\n",
    "resp = wps.frost_days(tasmin)"
   ]
  },
  {
   "cell_type": "code",
   "execution_count": 5,
   "metadata": {},
   "outputs": [
    {
     "name": "stdout",
     "output_type": "stream",
     "text": [
      "ProcessSucceeded\n",
      "frost_daysResponse(\n",
      "    output_netcdf='http://https://pavics.ouranos.ca/wpsoutputs/e8afbb04-42d3-11ea-9531-0242ac12000b/frost-days_SRES-A2-experiment_20460101-20650101.nc',\n",
      "    output_log='https://pavics.ouranos.ca/wpsoutputs/e8afbb04-42d3-11ea-9531-0242ac12000b/log.txt',\n",
      "    ref='https://pavics.ouranos.ca/wpsoutputs/e8afbb04-42d3-11ea-9531-0242ac12000b/input.meta4'\n",
      ")\n"
     ]
    }
   ],
   "source": [
    "print(resp.status)\n",
    "out = resp.get()\n",
    "print(out)"
   ]
  },
  {
   "cell_type": "markdown",
   "metadata": {},
   "source": [
    "The `get` method returns a `NamedTuple` object with all the WPS outputs, either as references to files or actual content. To copy the file to the local disk, you can use the `getOutput` method. "
   ]
  },
  {
   "cell_type": "code",
   "execution_count": 6,
   "metadata": {},
   "outputs": [],
   "source": [
    "resp.getOutput('/tmp/out.nc')"
   ]
  },
  {
   "cell_type": "code",
   "execution_count": 7,
   "metadata": {},
   "outputs": [
    {
     "data": {
      "text/html": [
       "<pre>&lt;xarray.Dataset&gt;\n",
       "Dimensions:     (lat: 6, lon: 7, time: 20)\n",
       "Coordinates:\n",
       "    height      float64 ...\n",
       "  * time        (time) object 2046-01-01 00:00:00 ... 2065-01-01 00:00:00\n",
       "  * lat         (lat) float64 42.68 46.39 50.1 53.81 57.52 61.23\n",
       "  * lon         (lon) float64 281.2 285.0 288.8 292.5 296.2 300.0 303.8\n",
       "Data variables:\n",
       "    frost_days  (time, lat, lon) timedelta64[ns] ...\n",
       "Attributes:\n",
       "    comment:                  Spinup: restart files from end of experiment 20...\n",
       "    title:                    MIUB  model output prepared for IPCC Fourth Ass...\n",
       "    cmor_version:             0.96\n",
       "    institution:              Canadian Centre for Climate Services (CCCS)\n",
       "    source:                   ECHO-G(1999): atmosphere: ECHAM4 (T30L19) with ...\n",
       "    contact:                  Canadian Centre for Climate Services\n",
       "    references:               ECHAM4: E. Roeckner et al., 1996, The atmospher...\n",
       "    experiment_id:            SRES A2 experiment\n",
       "    realization:              1\n",
       "    directory:                /ipcc/sresa2/atm/da/\n",
       "    table_id:                 Table A2 (17 November 2004)\n",
       "    calendar:                 360_day\n",
       "    project_id:               IPCC Fourth Assessment\n",
       "    Conventions:              CF-1.0\n",
       "    id:                       pcmdi.ipcc4.miub_echo_g.sresa2.run1.atm.da\n",
       "    history:                  Mon Aug  1 11:43:58 2011: ncks -4 -L 7 -d lat,4...\n",
       "    NCO:                      4.0.9\n",
       "    climateindex_package_id:  https://github.com/Ouranosinc/xclim\n",
       "    product:                  derived climate index\n",
       "    institute_id:             CCCS</pre>"
      ],
      "text/plain": [
       "<xarray.Dataset>\n",
       "Dimensions:     (lat: 6, lon: 7, time: 20)\n",
       "Coordinates:\n",
       "    height      float64 ...\n",
       "  * time        (time) object 2046-01-01 00:00:00 ... 2065-01-01 00:00:00\n",
       "  * lat         (lat) float64 42.68 46.39 50.1 53.81 57.52 61.23\n",
       "  * lon         (lon) float64 281.2 285.0 288.8 292.5 296.2 300.0 303.8\n",
       "Data variables:\n",
       "    frost_days  (time, lat, lon) timedelta64[ns] ...\n",
       "Attributes:\n",
       "    comment:                  Spinup: restart files from end of experiment 20...\n",
       "    title:                    MIUB  model output prepared for IPCC Fourth Ass...\n",
       "    cmor_version:             0.96\n",
       "    institution:              Canadian Centre for Climate Services (CCCS)\n",
       "    source:                   ECHO-G(1999): atmosphere: ECHAM4 (T30L19) with ...\n",
       "    contact:                  Canadian Centre for Climate Services\n",
       "    references:               ECHAM4: E. Roeckner et al., 1996, The atmospher...\n",
       "    experiment_id:            SRES A2 experiment\n",
       "    realization:              1\n",
       "    directory:                /ipcc/sresa2/atm/da/\n",
       "    table_id:                 Table A2 (17 November 2004)\n",
       "    calendar:                 360_day\n",
       "    project_id:               IPCC Fourth Assessment\n",
       "    Conventions:              CF-1.0\n",
       "    id:                       pcmdi.ipcc4.miub_echo_g.sresa2.run1.atm.da\n",
       "    history:                  Mon Aug  1 11:43:58 2011: ncks -4 -L 7 -d lat,4...\n",
       "    NCO:                      4.0.9\n",
       "    climateindex_package_id:  https://github.com/Ouranosinc/xclim\n",
       "    product:                  derived climate index\n",
       "    institute_id:             CCCS"
      ]
     },
     "execution_count": 7,
     "metadata": {},
     "output_type": "execute_result"
    }
   ],
   "source": [
    "import xarray as xr\n",
    "xr.open_dataset('/tmp/out.nc')"
   ]
  },
  {
   "cell_type": "markdown",
   "metadata": {},
   "source": [
    "The birdy client offers a quicker way to download and open the files automatically using `asobj=True`, as long as the file format is known to birdy. "
   ]
  },
  {
   "cell_type": "code",
   "execution_count": 8,
   "metadata": {},
   "outputs": [],
   "source": [
    "ds, log, metalink = resp.get(asobj=True)"
   ]
  },
  {
   "cell_type": "code",
   "execution_count": 9,
   "metadata": {},
   "outputs": [
    {
     "data": {
      "text/html": [
       "<pre>&lt;xarray.Dataset&gt;\n",
       "Dimensions:     (lat: 6, lon: 7, time: 20)\n",
       "Coordinates:\n",
       "    height      float64 ...\n",
       "  * time        (time) object 2046-01-01 00:00:00 ... 2065-01-01 00:00:00\n",
       "  * lat         (lat) float64 42.68 46.39 50.1 53.81 57.52 61.23\n",
       "  * lon         (lon) float64 281.2 285.0 288.8 292.5 296.2 300.0 303.8\n",
       "Data variables:\n",
       "    frost_days  (time, lat, lon) timedelta64[ns] ...\n",
       "Attributes:\n",
       "    comment:                  Spinup: restart files from end of experiment 20...\n",
       "    title:                    MIUB  model output prepared for IPCC Fourth Ass...\n",
       "    cmor_version:             0.96\n",
       "    institution:              Canadian Centre for Climate Services (CCCS)\n",
       "    source:                   ECHO-G(1999): atmosphere: ECHAM4 (T30L19) with ...\n",
       "    contact:                  Canadian Centre for Climate Services\n",
       "    references:               ECHAM4: E. Roeckner et al., 1996, The atmospher...\n",
       "    experiment_id:            SRES A2 experiment\n",
       "    realization:              1\n",
       "    directory:                /ipcc/sresa2/atm/da/\n",
       "    table_id:                 Table A2 (17 November 2004)\n",
       "    calendar:                 360_day\n",
       "    project_id:               IPCC Fourth Assessment\n",
       "    Conventions:              CF-1.0\n",
       "    id:                       pcmdi.ipcc4.miub_echo_g.sresa2.run1.atm.da\n",
       "    history:                  Mon Aug  1 11:43:58 2011: ncks -4 -L 7 -d lat,4...\n",
       "    NCO:                      4.0.9\n",
       "    climateindex_package_id:  https://github.com/Ouranosinc/xclim\n",
       "    product:                  derived climate index\n",
       "    institute_id:             CCCS</pre>"
      ],
      "text/plain": [
       "<xarray.Dataset>\n",
       "Dimensions:     (lat: 6, lon: 7, time: 20)\n",
       "Coordinates:\n",
       "    height      float64 ...\n",
       "  * time        (time) object 2046-01-01 00:00:00 ... 2065-01-01 00:00:00\n",
       "  * lat         (lat) float64 42.68 46.39 50.1 53.81 57.52 61.23\n",
       "  * lon         (lon) float64 281.2 285.0 288.8 292.5 296.2 300.0 303.8\n",
       "Data variables:\n",
       "    frost_days  (time, lat, lon) timedelta64[ns] ...\n",
       "Attributes:\n",
       "    comment:                  Spinup: restart files from end of experiment 20...\n",
       "    title:                    MIUB  model output prepared for IPCC Fourth Ass...\n",
       "    cmor_version:             0.96\n",
       "    institution:              Canadian Centre for Climate Services (CCCS)\n",
       "    source:                   ECHO-G(1999): atmosphere: ECHAM4 (T30L19) with ...\n",
       "    contact:                  Canadian Centre for Climate Services\n",
       "    references:               ECHAM4: E. Roeckner et al., 1996, The atmospher...\n",
       "    experiment_id:            SRES A2 experiment\n",
       "    realization:              1\n",
       "    directory:                /ipcc/sresa2/atm/da/\n",
       "    table_id:                 Table A2 (17 November 2004)\n",
       "    calendar:                 360_day\n",
       "    project_id:               IPCC Fourth Assessment\n",
       "    Conventions:              CF-1.0\n",
       "    id:                       pcmdi.ipcc4.miub_echo_g.sresa2.run1.atm.da\n",
       "    history:                  Mon Aug  1 11:43:58 2011: ncks -4 -L 7 -d lat,4...\n",
       "    NCO:                      4.0.9\n",
       "    climateindex_package_id:  https://github.com/Ouranosinc/xclim\n",
       "    product:                  derived climate index\n",
       "    institute_id:             CCCS"
      ]
     },
     "execution_count": 9,
     "metadata": {},
     "output_type": "execute_result"
    }
   ],
   "source": [
    "ds"
   ]
  },
  {
   "cell_type": "code",
   "execution_count": 10,
   "metadata": {},
   "outputs": [
    {
     "name": "stdout",
     "output_type": "stream",
     "text": [
      "Computing the output netcdf\n",
      "Processing file 0 of 1\n",
      "[               ] | 0% Done\n",
      "[###############] | 100% Done\n",
      "Processing finished successfully\n",
      "\n"
     ]
    }
   ],
   "source": [
    "# NBVAL_IGNORE_OUTPUT\n",
    "print(log)"
   ]
  }
 ],
 "metadata": {
  "kernelspec": {
   "display_name": "Python 3",
   "language": "python",
   "name": "python3"
  },
  "language_info": {
   "codemirror_mode": {
    "name": "ipython",
    "version": 3
   },
   "file_extension": ".py",
   "mimetype": "text/x-python",
   "name": "python",
   "nbconvert_exporter": "python",
   "pygments_lexer": "ipython3",
   "version": "3.8.2"
  }
 },
 "nbformat": 4,
 "nbformat_minor": 2
}
