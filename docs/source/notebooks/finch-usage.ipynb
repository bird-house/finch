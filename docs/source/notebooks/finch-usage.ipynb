{
 "cells": [
  {
   "cell_type": "markdown",
   "metadata": {},
   "source": [
    "# Finch usage\n",
    "\n",
    "Finch is a WPS server for climate indicators, but also has a few utilities to facilitate data handling. To get started, first instantiate the client. Here, the client will try to connect to a local or remote finch instance, depending on whether the environment variable `FINCH_WPS_URL` is defined."
   ]
  },
  {
   "cell_type": "code",
   "execution_count": 1,
   "metadata": {},
   "outputs": [],
   "source": [
    "import os\n",
    "import xarray as xr\n",
    "from birdy import WPSClient\n",
    "\n",
    "# Disable Dataset.__repr_html_ and DataArray._repr_html_, enabled by default in xarray 0.15.1\n",
    "xr.set_options(display_style='text')\n",
    "\n",
    "pavics_url = 'https://pavics.ouranos.ca/twitcher/ows/proxy/finch/wps'\n",
    "url = os.environ.get('FINCH_WPS_URL', pavics_url)\n",
    "verify_ssl = True if 'DISABLE_VERIFY_SSL' not in os.environ else False\n",
    "wps = WPSClient(url, verify=verify_ssl)"
   ]
  },
  {
   "cell_type": "markdown",
   "metadata": {},
   "source": [
    "\n",
    "The list of available processes can be displayed using the magic ? command (`wps?`). Similarly, help about any individual process is available using ? or the `help` command. "
   ]
  },
  {
   "cell_type": "code",
   "execution_count": 2,
   "metadata": {},
   "outputs": [
    {
     "name": "stdout",
     "output_type": "stream",
     "text": [
      "Help on method frost_days in module birdy.client.base:\n",
      "\n",
      "frost_days(tasmin=None, freq='YS') method of birdy.client.base.WPSClient instance\n",
      "    Number of days where daily minimum temperatures are below 0.\n",
      "    \n",
      "    Parameters\n",
      "    ----------\n",
      "    tasmin : ComplexData:mimetype:`application/x-netcdf`, :mimetype:`application/x-ogc-dods`\n",
      "        NetCDF Files or archive (tar/zip) containing netCDF files.\n",
      "    freq : {'YS', 'MS', 'QS-DEC', 'AS-JUL'}string\n",
      "        Resampling frequency\n",
      "    \n",
      "    Returns\n",
      "    -------\n",
      "    output_netcdf : ComplexData:mimetype:`application/x-netcdf`\n",
      "        The indicator values computed on the original input grid.\n",
      "    output_log : ComplexData:mimetype:`text/plain`\n",
      "        Collected logs during process run.\n",
      "    ref : ComplexData:mimetype:`application/metalink+xml; version=4.0`\n",
      "        Metalink file storing all references to output files.\n",
      "\n"
     ]
    }
   ],
   "source": [
    "help(wps.frost_days)"
   ]
  },
  {
   "cell_type": "markdown",
   "metadata": {},
   "source": [
    "To actually compute an indicator, we need to specify the path to the netCDF file used as input for the calculation of the indicator. To compute `frost_days`, we need a time series of daily minimum temperature. Here we'll use a small test file. Note that here we're using an OPeNDAP link, but it could also be an url to a netCDF file, or the path to a local file on disk. We then simply call the indicator. The response is an object that can poll the server to inquire about the status of the process. This object can use two modes: \n",
    " - synchronous: it will wait for the server's response before returning; or \n",
    " - asynchronous: it will return immediately, but without the actual output from the process.\n",
    " \n",
    "Here, since we're applying the process on a small test file, we're using the default synchronous mode. For long computations, use the asynchronous mode to avoid time-out errors. The asynchronous mode is activated by setting the `progress` attribute of the WPS client to True. "
   ]
  },
  {
   "cell_type": "code",
   "execution_count": 3,
   "metadata": {},
   "outputs": [],
   "source": [
    "tasmin = \"https://pavics.ouranos.ca/twitcher/ows/proxy/thredds/dodsC/birdhouse/testdata/flyingpigeon/cmip3/tasmin.sresa2.miub_echo_g.run1.atm.da.nc\"\n",
    "resp = wps.frost_days(tasmin)"
   ]
  },
  {
   "cell_type": "code",
   "execution_count": 4,
   "metadata": {},
   "outputs": [
    {
     "name": "stdout",
     "output_type": "stream",
     "text": [
      "Process status:  ProcessSucceeded\n",
      "Link to process output:  https://pavics.ouranos.ca/wpsoutputs/3340ccfc-6ab2-11ea-8009-3417ebcfda20/frost-days_SRES-A2-experiment_20460101-20650101.nc\n"
     ]
    }
   ],
   "source": [
    "print(\"Process status: \", resp.status)\n",
    "urls = resp.get()\n",
    "print(\"Link to process output: \", urls.output_netcdf)"
   ]
  },
  {
   "cell_type": "markdown",
   "metadata": {},
   "source": [
    "The `get` method returns a `NamedTuple` object with all the WPS outputs, either as references to files or actual content. To copy the file to the local disk, you can use the `getOutput` method, but birdy's get function has a more user-friendly solution. Setting the `asobj` argument to True will directly download all the output files and return outputs as python objects. "
   ]
  },
  {
   "cell_type": "code",
   "execution_count": 5,
   "metadata": {},
   "outputs": [],
   "source": [
    "out = resp.get(asobj=True)"
   ]
  },
  {
   "cell_type": "code",
   "execution_count": 6,
   "metadata": {},
   "outputs": [
    {
     "data": {
      "text/html": [
       "<pre>&lt;xarray.Dataset&gt;\n",
       "Dimensions:     (lat: 6, lon: 7, time: 20)\n",
       "Coordinates:\n",
       "    height      float64 ...\n",
       "  * time        (time) object 2046-01-01 00:00:00 ... 2065-01-01 00:00:00\n",
       "  * lat         (lat) float64 42.68 46.39 50.1 53.81 57.52 61.23\n",
       "  * lon         (lon) float64 281.2 285.0 288.8 292.5 296.2 300.0 303.8\n",
       "Data variables:\n",
       "    frost_days  (time, lat, lon) timedelta64[ns] ...\n",
       "Attributes:\n",
       "    comment:                  Spinup: restart files from end of experiment 20...\n",
       "    title:                    MIUB  model output prepared for IPCC Fourth Ass...\n",
       "    cmor_version:             0.96\n",
       "    institution:              Canadian Centre for Climate Services (CCCS)\n",
       "    source:                   ECHO-G(1999): atmosphere: ECHAM4 (T30L19) with ...\n",
       "    contact:                  Canadian Centre for Climate Services\n",
       "    references:               ECHAM4: E. Roeckner et al., 1996, The atmospher...\n",
       "    experiment_id:            SRES A2 experiment\n",
       "    realization:              1\n",
       "    directory:                /ipcc/sresa2/atm/da/\n",
       "    table_id:                 Table A2 (17 November 2004)\n",
       "    calendar:                 360_day\n",
       "    project_id:               IPCC Fourth Assessment\n",
       "    Conventions:              CF-1.0\n",
       "    id:                       pcmdi.ipcc4.miub_echo_g.sresa2.run1.atm.da\n",
       "    history:                  Mon Aug  1 11:43:58 2011: ncks -4 -L 7 -d lat,4...\n",
       "    NCO:                      4.0.9\n",
       "    climateindex_package_id:  https://github.com/Ouranosinc/xclim\n",
       "    product:                  derived climate index\n",
       "    institute_id:             CCCS</pre>"
      ],
      "text/plain": [
       "<xarray.Dataset>\n",
       "Dimensions:     (lat: 6, lon: 7, time: 20)\n",
       "Coordinates:\n",
       "    height      float64 ...\n",
       "  * time        (time) object 2046-01-01 00:00:00 ... 2065-01-01 00:00:00\n",
       "  * lat         (lat) float64 42.68 46.39 50.1 53.81 57.52 61.23\n",
       "  * lon         (lon) float64 281.2 285.0 288.8 292.5 296.2 300.0 303.8\n",
       "Data variables:\n",
       "    frost_days  (time, lat, lon) timedelta64[ns] ...\n",
       "Attributes:\n",
       "    comment:                  Spinup: restart files from end of experiment 20...\n",
       "    title:                    MIUB  model output prepared for IPCC Fourth Ass...\n",
       "    cmor_version:             0.96\n",
       "    institution:              Canadian Centre for Climate Services (CCCS)\n",
       "    source:                   ECHO-G(1999): atmosphere: ECHAM4 (T30L19) with ...\n",
       "    contact:                  Canadian Centre for Climate Services\n",
       "    references:               ECHAM4: E. Roeckner et al., 1996, The atmospher...\n",
       "    experiment_id:            SRES A2 experiment\n",
       "    realization:              1\n",
       "    directory:                /ipcc/sresa2/atm/da/\n",
       "    table_id:                 Table A2 (17 November 2004)\n",
       "    calendar:                 360_day\n",
       "    project_id:               IPCC Fourth Assessment\n",
       "    Conventions:              CF-1.0\n",
       "    id:                       pcmdi.ipcc4.miub_echo_g.sresa2.run1.atm.da\n",
       "    history:                  Mon Aug  1 11:43:58 2011: ncks -4 -L 7 -d lat,4...\n",
       "    NCO:                      4.0.9\n",
       "    climateindex_package_id:  https://github.com/Ouranosinc/xclim\n",
       "    product:                  derived climate index\n",
       "    institute_id:             CCCS"
      ]
     },
     "execution_count": 6,
     "metadata": {},
     "output_type": "execute_result"
    }
   ],
   "source": [
    "out.output_netcdf"
   ]
  }
 ],
 "metadata": {
  "kernelspec": {
   "display_name": "Python 3",
   "language": "python",
   "name": "python3"
  },
  "language_info": {
   "codemirror_mode": {
    "name": "ipython",
    "version": 3
   },
   "file_extension": ".py",
   "mimetype": "text/x-python",
   "name": "python",
   "nbconvert_exporter": "python",
   "pygments_lexer": "ipython3",
   "version": "3.8.2"
  }
 },
 "nbformat": 4,
 "nbformat_minor": 2
}
