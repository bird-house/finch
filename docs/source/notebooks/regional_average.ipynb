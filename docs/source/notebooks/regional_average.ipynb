{
 "cells": [
  {
   "cell_type": "markdown",
   "metadata": {},
   "source": [
    "# Regional average\n",
    "\n",
    "The `average_polygon` process returns the spatial average of a gridded field over one or more regions defined by polygons. \n",
    "\n",
    "In this example, we'll fetch the shape of canadian provinces and compute the temperature average over each one. "
   ]
  },
  {
   "cell_type": "code",
   "execution_count": 1,
   "metadata": {},
   "outputs": [],
   "source": [
    "import os\n",
    "import tempfile\n",
    "import datetime as dt\n",
    "from birdy import WPSClient\n",
    "from owslib.wfs import WebFeatureService\n",
    "import geopandas as gpd\n",
    "\n",
    "# Connection to Finch server (local or remote)\n",
    "url = os.environ.get(\"WPS_URL\", \"https://pavics.ouranos.ca/twitcher/ows/proxy/finch/wps\")\n",
    "finch = WPSClient(url)\n",
    "\n",
    "# Connection to GeoServer storing administrative boundaries\n",
    "geo = WebFeatureService(\"http://pavics.ouranos.ca/geoserver/wfs\", version=\"2.0.0\")"
   ]
  },
  {
   "cell_type": "markdown",
   "metadata": {},
   "source": [
    "Get the contour of three canadian provinces."
   ]
  },
  {
   "cell_type": "code",
   "execution_count": 2,
   "metadata": {},
   "outputs": [
    {
     "name": "stdout",
     "output_type": "stream",
     "text": [
      "Canada Administrative Boundaries\n"
     ]
    }
   ],
   "source": [
    "layer_id = 'public:canada_admin_boundaries'\n",
    "print(geo.contents[layer_id].title)\n",
    "resp = geo.getfeature(typename=layer_id, bbox=(-67, 43, -60, 46), outputFormat=\"application/json\")\n",
    "features = gpd.read_file(resp)"
   ]
  },
  {
   "cell_type": "markdown",
   "metadata": {},
   "source": [
    "Note that Finch limits the size of input files. Here, we're simplifyng the geometry to reduce the size of the shape file. In the future, we'll add support to simply send the WFS URL request. "
   ]
  },
  {
   "cell_type": "code",
   "execution_count": 3,
   "metadata": {},
   "outputs": [
    {
     "data": {
      "text/html": [
       "<div>\n",
       "<style scoped>\n",
       "    .dataframe tbody tr th:only-of-type {\n",
       "        vertical-align: middle;\n",
       "    }\n",
       "\n",
       "    .dataframe tbody tr th {\n",
       "        vertical-align: top;\n",
       "    }\n",
       "\n",
       "    .dataframe thead th {\n",
       "        text-align: right;\n",
       "    }\n",
       "</style>\n",
       "<table border=\"1\" class=\"dataframe\">\n",
       "  <thead>\n",
       "    <tr style=\"text-align: right;\">\n",
       "      <th></th>\n",
       "      <th>id</th>\n",
       "      <th>PRUID</th>\n",
       "      <th>PRNAME</th>\n",
       "      <th>PRENAME</th>\n",
       "      <th>PRFNAME</th>\n",
       "      <th>PREABBR</th>\n",
       "      <th>PRFABBR</th>\n",
       "      <th>geometry</th>\n",
       "    </tr>\n",
       "  </thead>\n",
       "  <tbody>\n",
       "    <tr>\n",
       "      <th>0</th>\n",
       "      <td>canada_admin_boundaries.4</td>\n",
       "      <td>11</td>\n",
       "      <td>Prince Edward Island / le-du-Prince-douard</td>\n",
       "      <td>Prince Edward Island</td>\n",
       "      <td>le-du-Prince-douard</td>\n",
       "      <td>P.E.I.</td>\n",
       "      <td>.-P.-.</td>\n",
       "      <td>MULTIPOLYGON (((-62.49300 46.02520, -62.49340 ...</td>\n",
       "    </tr>\n",
       "    <tr>\n",
       "      <th>1</th>\n",
       "      <td>canada_admin_boundaries.9</td>\n",
       "      <td>13</td>\n",
       "      <td>New Brunswick / Nouveau-Brunswick</td>\n",
       "      <td>New Brunswick</td>\n",
       "      <td>Nouveau-Brunswick</td>\n",
       "      <td>N.B.</td>\n",
       "      <td>N.-B.</td>\n",
       "      <td>MULTIPOLYGON (((-66.76540 44.58380, -66.76870 ...</td>\n",
       "    </tr>\n",
       "    <tr>\n",
       "      <th>2</th>\n",
       "      <td>canada_admin_boundaries.13</td>\n",
       "      <td>12</td>\n",
       "      <td>Nova Scotia / Nouvelle-cosse</td>\n",
       "      <td>Nova Scotia</td>\n",
       "      <td>Nouvelle-cosse</td>\n",
       "      <td>N.S.</td>\n",
       "      <td>N.-.</td>\n",
       "      <td>MULTIPOLYGON (((-65.64770 43.40800, -65.64930 ...</td>\n",
       "    </tr>\n",
       "  </tbody>\n",
       "</table>\n",
       "</div>"
      ],
      "text/plain": [
       "                           id PRUID  \\\n",
       "0   canada_admin_boundaries.4    11   \n",
       "1   canada_admin_boundaries.9    13   \n",
       "2  canada_admin_boundaries.13    12   \n",
       "\n",
       "                                       PRNAME               PRENAME  \\\n",
       "0  Prince Edward Island / le-du-Prince-douard  Prince Edward Island   \n",
       "1           New Brunswick / Nouveau-Brunswick         New Brunswick   \n",
       "2                Nova Scotia / Nouvelle-cosse           Nova Scotia   \n",
       "\n",
       "               PRFNAME PREABBR PRFABBR  \\\n",
       "0  le-du-Prince-douard  P.E.I.  .-P.-.   \n",
       "1    Nouveau-Brunswick    N.B.   N.-B.   \n",
       "2       Nouvelle-cosse    N.S.    N.-.   \n",
       "\n",
       "                                            geometry  \n",
       "0  MULTIPOLYGON (((-62.49300 46.02520, -62.49340 ...  \n",
       "1  MULTIPOLYGON (((-66.76540 44.58380, -66.76870 ...  \n",
       "2  MULTIPOLYGON (((-65.64770 43.40800, -65.64930 ...  "
      ]
     },
     "metadata": {},
     "output_type": "display_data"
    },
    {
     "name": "stdout",
     "output_type": "stream",
     "text": [
      "/tmp/tmpyate13_u.geojson\t 94.1Kb\n"
     ]
    }
   ],
   "source": [
    "# Write simplified geometry to file\n",
    "simplified = features.set_geometry(features.simplify(0.1))\n",
    "display(simplified)\n",
    "\n",
    "f = tempfile.NamedTemporaryFile(mode=\"w\", suffix=\".geojson\")\n",
    "size = f.write(simplified.to_json())\n",
    "f.seek(0)\n",
    "print(f\"{f.name}\\t {size/1024:.1f}Kb\")"
   ]
  },
  {
   "cell_type": "code",
   "execution_count": 4,
   "metadata": {},
   "outputs": [
    {
     "name": "stdout",
     "output_type": "stream",
     "text": [
      " owslib.wps.WPSException : {'code': 'NoApplicableCode', 'locator': 'None', 'text': 'Process failed, please check server error log'}\n"
     ]
    }
   ],
   "source": [
    "era5_url = \"https://pavics.ouranos.ca/twitcher/ows/proxy/thredds/dodsC/datasets/reanalyses/era5.ncml\"\n",
    "resp = finch.average_polygon(resource=era5_url,\n",
    "                      shape=f.name, \n",
    "                      tolerance=0.1, \n",
    "                      start_date=dt.datetime(2000, 1, 1), \n",
    "                      end_date=dt.datetime(2000, 1, 10), \n",
    "                      variable=\"tas\")"
   ]
  },
  {
   "cell_type": "code",
   "execution_count": 5,
   "metadata": {},
   "outputs": [
    {
     "ename": "ProcessFailed",
     "evalue": "Sorry, process failed.",
     "output_type": "error",
     "traceback": [
      "\u001b[0;31m---------------------------------------------------------------------------\u001b[0m",
      "\u001b[0;31mProcessFailed\u001b[0m                             Traceback (most recent call last)",
      "\u001b[0;32m<ipython-input-5-e027d39ca7b5>\u001b[0m in \u001b[0;36m<module>\u001b[0;34m\u001b[0m\n\u001b[0;32m----> 1\u001b[0;31m \u001b[0mout\u001b[0m \u001b[0;34m=\u001b[0m \u001b[0mresp\u001b[0m\u001b[0;34m.\u001b[0m\u001b[0mget\u001b[0m\u001b[0;34m(\u001b[0m\u001b[0masobj\u001b[0m\u001b[0;34m=\u001b[0m\u001b[0;32mTrue\u001b[0m\u001b[0;34m)\u001b[0m\u001b[0;34m.\u001b[0m\u001b[0moutput\u001b[0m\u001b[0;34m\u001b[0m\u001b[0;34m\u001b[0m\u001b[0m\n\u001b[0m\u001b[1;32m      2\u001b[0m \u001b[0mout\u001b[0m\u001b[0;34m\u001b[0m\u001b[0;34m\u001b[0m\u001b[0m\n",
      "\u001b[0;32m~/.conda/envs/finch/lib/python3.8/site-packages/birdy/client/outputs.py\u001b[0m in \u001b[0;36mget\u001b[0;34m(self, asobj)\u001b[0m\n\u001b[1;32m     28\u001b[0m         \u001b[0;32mif\u001b[0m \u001b[0;32mnot\u001b[0m \u001b[0mself\u001b[0m\u001b[0;34m.\u001b[0m\u001b[0misSucceded\u001b[0m\u001b[0;34m(\u001b[0m\u001b[0;34m)\u001b[0m\u001b[0;34m:\u001b[0m\u001b[0;34m\u001b[0m\u001b[0;34m\u001b[0m\u001b[0m\n\u001b[1;32m     29\u001b[0m             \u001b[0;31m# TODO: add reason for failure\u001b[0m\u001b[0;34m\u001b[0m\u001b[0;34m\u001b[0m\u001b[0;34m\u001b[0m\u001b[0m\n\u001b[0;32m---> 30\u001b[0;31m             \u001b[0;32mraise\u001b[0m \u001b[0mProcessFailed\u001b[0m\u001b[0;34m(\u001b[0m\u001b[0;34m\"Sorry, process failed.\"\u001b[0m\u001b[0;34m)\u001b[0m\u001b[0;34m\u001b[0m\u001b[0;34m\u001b[0m\u001b[0m\n\u001b[0m\u001b[1;32m     31\u001b[0m         \u001b[0;32mreturn\u001b[0m \u001b[0mself\u001b[0m\u001b[0;34m.\u001b[0m\u001b[0m_make_output\u001b[0m\u001b[0;34m(\u001b[0m\u001b[0masobj\u001b[0m\u001b[0;34m)\u001b[0m\u001b[0;34m\u001b[0m\u001b[0;34m\u001b[0m\u001b[0m\n\u001b[1;32m     32\u001b[0m \u001b[0;34m\u001b[0m\u001b[0m\n",
      "\u001b[0;31mProcessFailed\u001b[0m: Sorry, process failed."
     ]
    }
   ],
   "source": [
    "out = resp.get(asobj=True).output\n",
    "out"
   ]
  }
 ],
 "metadata": {
  "kernelspec": {
   "display_name": "Python 3",
   "language": "python",
   "name": "python3"
  },
  "language_info": {
   "codemirror_mode": {
    "name": "ipython",
    "version": 3
   },
   "file_extension": ".py",
   "mimetype": "text/x-python",
   "name": "python",
   "nbconvert_exporter": "python",
   "pygments_lexer": "ipython3",
   "version": "3.8.2"
  }
 },
 "nbformat": 4,
 "nbformat_minor": 4
}
